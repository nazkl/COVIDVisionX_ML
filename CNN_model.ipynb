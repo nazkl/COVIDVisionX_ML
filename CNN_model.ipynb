{
  "cells": [
    {
      "cell_type": "code",
      "execution_count": null,
      "metadata": {
        "colab": {
          "base_uri": "https://localhost:8080/"
        },
        "id": "qLGejWefn6LO",
        "outputId": "41b9f736-9137-4083-a030-8851ab5261d2"
      },
      "outputs": [
        {
          "output_type": "stream",
          "name": "stdout",
          "text": [
            "Mounted at /content/drive\n"
          ]
        }
      ],
      "source": [
        "from google.colab import drive\n",
        "drive.mount('/content/drive')"
      ]
    },
    {
      "cell_type": "code",
      "source": [
        "from google.colab import files\n",
        "uploaded = files.upload()"
      ],
      "metadata": {
        "colab": {
          "base_uri": "https://localhost:8080/",
          "height": 73
        },
        "id": "au0l1YfyHORI",
        "outputId": "5ab33774-5545-4e60-cec9-c172a0bca3ce"
      },
      "execution_count": null,
      "outputs": [
        {
          "output_type": "display_data",
          "data": {
            "text/plain": [
              "<IPython.core.display.HTML object>"
            ],
            "text/html": [
              "\n",
              "     <input type=\"file\" id=\"files-f052878a-7ad3-46a1-915c-e0ecf90fa62d\" name=\"files[]\" multiple disabled\n",
              "        style=\"border:none\" />\n",
              "     <output id=\"result-f052878a-7ad3-46a1-915c-e0ecf90fa62d\">\n",
              "      Upload widget is only available when the cell has been executed in the\n",
              "      current browser session. Please rerun this cell to enable.\n",
              "      </output>\n",
              "      <script>// Copyright 2017 Google LLC\n",
              "//\n",
              "// Licensed under the Apache License, Version 2.0 (the \"License\");\n",
              "// you may not use this file except in compliance with the License.\n",
              "// You may obtain a copy of the License at\n",
              "//\n",
              "//      http://www.apache.org/licenses/LICENSE-2.0\n",
              "//\n",
              "// Unless required by applicable law or agreed to in writing, software\n",
              "// distributed under the License is distributed on an \"AS IS\" BASIS,\n",
              "// WITHOUT WARRANTIES OR CONDITIONS OF ANY KIND, either express or implied.\n",
              "// See the License for the specific language governing permissions and\n",
              "// limitations under the License.\n",
              "\n",
              "/**\n",
              " * @fileoverview Helpers for google.colab Python module.\n",
              " */\n",
              "(function(scope) {\n",
              "function span(text, styleAttributes = {}) {\n",
              "  const element = document.createElement('span');\n",
              "  element.textContent = text;\n",
              "  for (const key of Object.keys(styleAttributes)) {\n",
              "    element.style[key] = styleAttributes[key];\n",
              "  }\n",
              "  return element;\n",
              "}\n",
              "\n",
              "// Max number of bytes which will be uploaded at a time.\n",
              "const MAX_PAYLOAD_SIZE = 100 * 1024;\n",
              "\n",
              "function _uploadFiles(inputId, outputId) {\n",
              "  const steps = uploadFilesStep(inputId, outputId);\n",
              "  const outputElement = document.getElementById(outputId);\n",
              "  // Cache steps on the outputElement to make it available for the next call\n",
              "  // to uploadFilesContinue from Python.\n",
              "  outputElement.steps = steps;\n",
              "\n",
              "  return _uploadFilesContinue(outputId);\n",
              "}\n",
              "\n",
              "// This is roughly an async generator (not supported in the browser yet),\n",
              "// where there are multiple asynchronous steps and the Python side is going\n",
              "// to poll for completion of each step.\n",
              "// This uses a Promise to block the python side on completion of each step,\n",
              "// then passes the result of the previous step as the input to the next step.\n",
              "function _uploadFilesContinue(outputId) {\n",
              "  const outputElement = document.getElementById(outputId);\n",
              "  const steps = outputElement.steps;\n",
              "\n",
              "  const next = steps.next(outputElement.lastPromiseValue);\n",
              "  return Promise.resolve(next.value.promise).then((value) => {\n",
              "    // Cache the last promise value to make it available to the next\n",
              "    // step of the generator.\n",
              "    outputElement.lastPromiseValue = value;\n",
              "    return next.value.response;\n",
              "  });\n",
              "}\n",
              "\n",
              "/**\n",
              " * Generator function which is called between each async step of the upload\n",
              " * process.\n",
              " * @param {string} inputId Element ID of the input file picker element.\n",
              " * @param {string} outputId Element ID of the output display.\n",
              " * @return {!Iterable<!Object>} Iterable of next steps.\n",
              " */\n",
              "function* uploadFilesStep(inputId, outputId) {\n",
              "  const inputElement = document.getElementById(inputId);\n",
              "  inputElement.disabled = false;\n",
              "\n",
              "  const outputElement = document.getElementById(outputId);\n",
              "  outputElement.innerHTML = '';\n",
              "\n",
              "  const pickedPromise = new Promise((resolve) => {\n",
              "    inputElement.addEventListener('change', (e) => {\n",
              "      resolve(e.target.files);\n",
              "    });\n",
              "  });\n",
              "\n",
              "  const cancel = document.createElement('button');\n",
              "  inputElement.parentElement.appendChild(cancel);\n",
              "  cancel.textContent = 'Cancel upload';\n",
              "  const cancelPromise = new Promise((resolve) => {\n",
              "    cancel.onclick = () => {\n",
              "      resolve(null);\n",
              "    };\n",
              "  });\n",
              "\n",
              "  // Wait for the user to pick the files.\n",
              "  const files = yield {\n",
              "    promise: Promise.race([pickedPromise, cancelPromise]),\n",
              "    response: {\n",
              "      action: 'starting',\n",
              "    }\n",
              "  };\n",
              "\n",
              "  cancel.remove();\n",
              "\n",
              "  // Disable the input element since further picks are not allowed.\n",
              "  inputElement.disabled = true;\n",
              "\n",
              "  if (!files) {\n",
              "    return {\n",
              "      response: {\n",
              "        action: 'complete',\n",
              "      }\n",
              "    };\n",
              "  }\n",
              "\n",
              "  for (const file of files) {\n",
              "    const li = document.createElement('li');\n",
              "    li.append(span(file.name, {fontWeight: 'bold'}));\n",
              "    li.append(span(\n",
              "        `(${file.type || 'n/a'}) - ${file.size} bytes, ` +\n",
              "        `last modified: ${\n",
              "            file.lastModifiedDate ? file.lastModifiedDate.toLocaleDateString() :\n",
              "                                    'n/a'} - `));\n",
              "    const percent = span('0% done');\n",
              "    li.appendChild(percent);\n",
              "\n",
              "    outputElement.appendChild(li);\n",
              "\n",
              "    const fileDataPromise = new Promise((resolve) => {\n",
              "      const reader = new FileReader();\n",
              "      reader.onload = (e) => {\n",
              "        resolve(e.target.result);\n",
              "      };\n",
              "      reader.readAsArrayBuffer(file);\n",
              "    });\n",
              "    // Wait for the data to be ready.\n",
              "    let fileData = yield {\n",
              "      promise: fileDataPromise,\n",
              "      response: {\n",
              "        action: 'continue',\n",
              "      }\n",
              "    };\n",
              "\n",
              "    // Use a chunked sending to avoid message size limits. See b/62115660.\n",
              "    let position = 0;\n",
              "    do {\n",
              "      const length = Math.min(fileData.byteLength - position, MAX_PAYLOAD_SIZE);\n",
              "      const chunk = new Uint8Array(fileData, position, length);\n",
              "      position += length;\n",
              "\n",
              "      const base64 = btoa(String.fromCharCode.apply(null, chunk));\n",
              "      yield {\n",
              "        response: {\n",
              "          action: 'append',\n",
              "          file: file.name,\n",
              "          data: base64,\n",
              "        },\n",
              "      };\n",
              "\n",
              "      let percentDone = fileData.byteLength === 0 ?\n",
              "          100 :\n",
              "          Math.round((position / fileData.byteLength) * 100);\n",
              "      percent.textContent = `${percentDone}% done`;\n",
              "\n",
              "    } while (position < fileData.byteLength);\n",
              "  }\n",
              "\n",
              "  // All done.\n",
              "  yield {\n",
              "    response: {\n",
              "      action: 'complete',\n",
              "    }\n",
              "  };\n",
              "}\n",
              "\n",
              "scope.google = scope.google || {};\n",
              "scope.google.colab = scope.google.colab || {};\n",
              "scope.google.colab._files = {\n",
              "  _uploadFiles,\n",
              "  _uploadFilesContinue,\n",
              "};\n",
              "})(self);\n",
              "</script> "
            ]
          },
          "metadata": {}
        },
        {
          "output_type": "stream",
          "name": "stdout",
          "text": [
            "Saving metadata.csv to metadata.csv\n"
          ]
        }
      ]
    },
    {
      "cell_type": "code",
      "execution_count": null,
      "metadata": {
        "id": "GpS-0iMutHB3"
      },
      "outputs": [],
      "source": [
        "import zipfile\n",
        "import os\n",
        "zip_ref = zipfile.ZipFile('/content/drive/MyDrive/datasets/covid_data.zip', 'r')\n",
        "zip_ref.extractall('/tmp')\n",
        "zip_ref.close()"
      ]
    },
    {
      "cell_type": "code",
      "execution_count": null,
      "metadata": {
        "colab": {
          "base_uri": "https://localhost:8080/"
        },
        "id": "r6kz-KUztvdz",
        "outputId": "a62e4597-9077-4a32-e1e6-865c06a76896"
      },
      "outputs": [
        {
          "output_type": "stream",
          "name": "stdout",
          "text": [
            "116\n",
            "317\n",
            "855\n",
            "460\n",
            "1266\n",
            "3418\n"
          ]
        }
      ],
      "source": [
        "print(len(os.listdir('/tmp/Data/test/COVID19')))\n",
        "print(len(os.listdir('/tmp/Data/test/NORMAL')))\n",
        "print(len(os.listdir('/tmp/Data/test/PNEUMONIA')))\n",
        "\n",
        "print(len(os.listdir('/tmp/Data/train/COVID19')))\n",
        "print(len(os.listdir('/tmp/Data/train/NORMAL')))\n",
        "print(len(os.listdir('/tmp/Data/train/PNEUMONIA')))"
      ]
    },
    {
      "cell_type": "code",
      "execution_count": null,
      "metadata": {
        "id": "mIR7qa0xuopd"
      },
      "outputs": [],
      "source": [
        "import numpy as np\n",
        "import tensorflow as tf\n",
        "from tensorflow.keras.preprocessing.image import ImageDataGenerator"
      ]
    },
    {
      "cell_type": "code",
      "execution_count": null,
      "metadata": {
        "id": "9VngoBCVvzFW"
      },
      "outputs": [],
      "source": [
        "train_dir = '/tmp/Data/train'\n",
        "test_dir = '/tmp/Data/test'"
      ]
    },
    {
      "cell_type": "code",
      "execution_count": null,
      "metadata": {
        "id": "SkKT1ZNZv_us"
      },
      "outputs": [],
      "source": [
        "train_datagen = ImageDataGenerator(\n",
        "    rescale = 1./255, #normalize pixel vals to [0,1]\n",
        "    rotation_range = 20, #rotate image rand within 20 deg\n",
        "    width_shift_range = 0.2, #shift image horizontally within 20% of width\n",
        "    height_shift_range = 0.2, #shift image horizontally within 20% of height\n",
        "    shear_range = 0.2,\n",
        "    zoom_range = 0.2,\n",
        "    horizontal_flip=True, # Flip image horizontally\n",
        "    fill_mode='nearest'\n",
        ")\n",
        "\n",
        "test_datagen = ImageDataGenerator(rescale=1./255)"
      ]
    },
    {
      "cell_type": "code",
      "execution_count": null,
      "metadata": {
        "colab": {
          "base_uri": "https://localhost:8080/"
        },
        "id": "-ycbGMbQxTUG",
        "outputId": "6f86192c-d515-4f31-ced9-442f128f4a1b"
      },
      "outputs": [
        {
          "output_type": "stream",
          "name": "stdout",
          "text": [
            "Found 5144 images belonging to 3 classes.\n",
            "Found 1288 images belonging to 3 classes.\n"
          ]
        }
      ],
      "source": [
        "train_generator = train_datagen.flow_from_directory(\n",
        "    train_dir, # Path to training data\n",
        "    target_size=(150, 150), # Resize images to 150x150\n",
        "    batch_size=32, # Number of images to read at once\n",
        "    class_mode='categorical'\n",
        ")\n",
        "\n",
        "test_generator = test_datagen.flow_from_directory(\n",
        "    test_dir, # Path to test data\n",
        "    target_size=(150, 150),\n",
        "    batch_size=32,\n",
        "    class_mode='categorical'\n",
        ")"
      ]
    },
    {
      "cell_type": "code",
      "execution_count": null,
      "metadata": {
        "id": "38VsqN-fxcHE"
      },
      "outputs": [],
      "source": [
        "# Define the CNN architecture\n",
        "model = tf.keras.Sequential([\n",
        "    tf.keras.layers.Conv2D(32, (3,3), activation='relu', input_shape=(150,150,3)),\n",
        "    tf.keras.layers.MaxPooling2D(2,2),\n",
        "    tf.keras.layers.Conv2D(64, (3,3), activation='relu'),\n",
        "    tf.keras.layers.MaxPooling2D(2,2),\n",
        "    tf.keras.layers.Conv2D(128, (3,3), activation='relu'),\n",
        "    tf.keras.layers.MaxPooling2D(2,2),\n",
        "    tf.keras.layers.Conv2D(128, (3,3), activation='relu'),\n",
        "    tf.keras.layers.MaxPooling2D(2,2),\n",
        "    tf.keras.layers.Flatten(),\n",
        "    tf.keras.layers.Dense(512, activation='relu'),\n",
        "    tf.keras.layers.Dense(3, activation='softmax') # Output layer with 3 nodes and softmax activation\n",
        "])"
      ]
    },
    {
      "cell_type": "code",
      "source": [
        "checkpoint_path = \"/content/drive/MyDrive/checkpoints/cp-epoch-{epoch}.ckpt\"\n",
        "cp_callback = tf.keras.callbacks.ModelCheckpoint(filepath=checkpoint_path,\n",
        "                                                 save_weights_only=True,\n",
        "                                                 verbose=1)"
      ],
      "metadata": {
        "id": "ecKdMNZu_q2f"
      },
      "execution_count": null,
      "outputs": []
    },
    {
      "cell_type": "code",
      "execution_count": null,
      "metadata": {
        "id": "69TR1zItyFSU"
      },
      "outputs": [],
      "source": [
        "model.compile(loss='categorical_crossentropy',\n",
        "              optimizer=tf.keras.optimizers.RMSprop(learning_rate=1e-4),\n",
        "              metrics=['accuracy'])"
      ]
    },
    {
      "cell_type": "code",
      "source": [],
      "metadata": {
        "id": "mphCM63yAQYg"
      },
      "execution_count": null,
      "outputs": []
    },
    {
      "cell_type": "code",
      "execution_count": null,
      "metadata": {
        "colab": {
          "base_uri": "https://localhost:8080/"
        },
        "id": "Uzm3fIlcyMns",
        "outputId": "e37df8b7-4ce5-42f3-884b-e57e4fb6c761"
      },
      "outputs": [
        {
          "output_type": "stream",
          "name": "stdout",
          "text": [
            "Epoch 1/50\n",
            "161/161 [==============================] - ETA: 0s - loss: 0.3350 - accuracy: 0.8690\n",
            "Epoch 1: saving model to /content/drive/MyDrive/checkpoints/cp-epoch-1.ckpt\n",
            "161/161 [==============================] - 178s 1s/step - loss: 0.3350 - accuracy: 0.8690 - val_loss: 0.2991 - val_accuracy: 0.8828\n",
            "Epoch 2/50\n",
            "161/161 [==============================] - ETA: 0s - loss: 0.3140 - accuracy: 0.8787\n",
            "Epoch 2: saving model to /content/drive/MyDrive/checkpoints/cp-epoch-2.ckpt\n",
            "161/161 [==============================] - 171s 1s/step - loss: 0.3140 - accuracy: 0.8787 - val_loss: 0.2174 - val_accuracy: 0.9224\n",
            "Epoch 3/50\n",
            "161/161 [==============================] - ETA: 0s - loss: 0.3035 - accuracy: 0.8767\n",
            "Epoch 3: saving model to /content/drive/MyDrive/checkpoints/cp-epoch-3.ckpt\n",
            "161/161 [==============================] - 169s 1s/step - loss: 0.3035 - accuracy: 0.8767 - val_loss: 0.2241 - val_accuracy: 0.9293\n",
            "Epoch 4/50\n",
            "161/161 [==============================] - ETA: 0s - loss: 0.3005 - accuracy: 0.8828\n",
            "Epoch 4: saving model to /content/drive/MyDrive/checkpoints/cp-epoch-4.ckpt\n",
            "161/161 [==============================] - 183s 1s/step - loss: 0.3005 - accuracy: 0.8828 - val_loss: 0.3466 - val_accuracy: 0.8424\n",
            "Epoch 5/50\n",
            "161/161 [==============================] - ETA: 0s - loss: 0.2923 - accuracy: 0.8851\n",
            "Epoch 5: saving model to /content/drive/MyDrive/checkpoints/cp-epoch-5.ckpt\n",
            "161/161 [==============================] - 170s 1s/step - loss: 0.2923 - accuracy: 0.8851 - val_loss: 0.2082 - val_accuracy: 0.9255\n",
            "Epoch 6/50\n",
            "161/161 [==============================] - ETA: 0s - loss: 0.2890 - accuracy: 0.8896\n",
            "Epoch 6: saving model to /content/drive/MyDrive/checkpoints/cp-epoch-6.ckpt\n",
            "161/161 [==============================] - 183s 1s/step - loss: 0.2890 - accuracy: 0.8896 - val_loss: 0.2282 - val_accuracy: 0.9216\n",
            "Epoch 7/50\n",
            "161/161 [==============================] - ETA: 0s - loss: 0.2694 - accuracy: 0.8987\n",
            "Epoch 7: saving model to /content/drive/MyDrive/checkpoints/cp-epoch-7.ckpt\n",
            "161/161 [==============================] - 167s 1s/step - loss: 0.2694 - accuracy: 0.8987 - val_loss: 0.2956 - val_accuracy: 0.8781\n",
            "Epoch 8/50\n",
            "161/161 [==============================] - ETA: 0s - loss: 0.2715 - accuracy: 0.8950\n",
            "Epoch 8: saving model to /content/drive/MyDrive/checkpoints/cp-epoch-8.ckpt\n",
            "161/161 [==============================] - 168s 1s/step - loss: 0.2715 - accuracy: 0.8950 - val_loss: 0.1954 - val_accuracy: 0.9449\n",
            "Epoch 9/50\n",
            "161/161 [==============================] - ETA: 0s - loss: 0.2683 - accuracy: 0.8956\n",
            "Epoch 9: saving model to /content/drive/MyDrive/checkpoints/cp-epoch-9.ckpt\n",
            "161/161 [==============================] - 170s 1s/step - loss: 0.2683 - accuracy: 0.8956 - val_loss: 0.3129 - val_accuracy: 0.8719\n",
            "Epoch 10/50\n",
            "161/161 [==============================] - ETA: 0s - loss: 0.2600 - accuracy: 0.9038\n",
            "Epoch 10: saving model to /content/drive/MyDrive/checkpoints/cp-epoch-10.ckpt\n",
            "161/161 [==============================] - 181s 1s/step - loss: 0.2600 - accuracy: 0.9038 - val_loss: 0.1959 - val_accuracy: 0.9387\n",
            "Epoch 11/50\n",
            "161/161 [==============================] - ETA: 0s - loss: 0.2558 - accuracy: 0.9073\n",
            "Epoch 11: saving model to /content/drive/MyDrive/checkpoints/cp-epoch-11.ckpt\n",
            "161/161 [==============================] - 167s 1s/step - loss: 0.2558 - accuracy: 0.9073 - val_loss: 0.2339 - val_accuracy: 0.9161\n",
            "Epoch 12/50\n",
            "161/161 [==============================] - ETA: 0s - loss: 0.2555 - accuracy: 0.9005\n",
            "Epoch 12: saving model to /content/drive/MyDrive/checkpoints/cp-epoch-12.ckpt\n",
            "161/161 [==============================] - 168s 1s/step - loss: 0.2555 - accuracy: 0.9005 - val_loss: 0.2194 - val_accuracy: 0.9340\n",
            "Epoch 13/50\n",
            "161/161 [==============================] - ETA: 0s - loss: 0.2342 - accuracy: 0.9082\n",
            "Epoch 13: saving model to /content/drive/MyDrive/checkpoints/cp-epoch-13.ckpt\n",
            "161/161 [==============================] - 168s 1s/step - loss: 0.2342 - accuracy: 0.9082 - val_loss: 0.1864 - val_accuracy: 0.9348\n",
            "Epoch 14/50\n",
            "161/161 [==============================] - ETA: 0s - loss: 0.2395 - accuracy: 0.9069\n",
            "Epoch 14: saving model to /content/drive/MyDrive/checkpoints/cp-epoch-14.ckpt\n",
            "161/161 [==============================] - 168s 1s/step - loss: 0.2395 - accuracy: 0.9069 - val_loss: 0.1751 - val_accuracy: 0.9394\n",
            "Epoch 15/50\n",
            "161/161 [==============================] - ETA: 0s - loss: 0.2314 - accuracy: 0.9112\n",
            "Epoch 15: saving model to /content/drive/MyDrive/checkpoints/cp-epoch-15.ckpt\n",
            "161/161 [==============================] - 183s 1s/step - loss: 0.2314 - accuracy: 0.9112 - val_loss: 0.1975 - val_accuracy: 0.9317\n",
            "Epoch 16/50\n",
            "161/161 [==============================] - ETA: 0s - loss: 0.2295 - accuracy: 0.9121\n",
            "Epoch 16: saving model to /content/drive/MyDrive/checkpoints/cp-epoch-16.ckpt\n",
            "161/161 [==============================] - 168s 1s/step - loss: 0.2295 - accuracy: 0.9121 - val_loss: 0.2004 - val_accuracy: 0.9301\n",
            "Epoch 17/50\n",
            "161/161 [==============================] - ETA: 0s - loss: 0.2278 - accuracy: 0.9125\n",
            "Epoch 17: saving model to /content/drive/MyDrive/checkpoints/cp-epoch-17.ckpt\n",
            "161/161 [==============================] - 182s 1s/step - loss: 0.2278 - accuracy: 0.9125 - val_loss: 0.1739 - val_accuracy: 0.9371\n",
            "Epoch 18/50\n",
            "161/161 [==============================] - ETA: 0s - loss: 0.2256 - accuracy: 0.9143\n",
            "Epoch 18: saving model to /content/drive/MyDrive/checkpoints/cp-epoch-18.ckpt\n",
            "161/161 [==============================] - 169s 1s/step - loss: 0.2256 - accuracy: 0.9143 - val_loss: 0.1961 - val_accuracy: 0.9340\n",
            "Epoch 19/50\n",
            "161/161 [==============================] - ETA: 0s - loss: 0.2219 - accuracy: 0.9150\n",
            "Epoch 19: saving model to /content/drive/MyDrive/checkpoints/cp-epoch-19.ckpt\n",
            "161/161 [==============================] - 182s 1s/step - loss: 0.2219 - accuracy: 0.9150 - val_loss: 0.2390 - val_accuracy: 0.9092\n",
            "Epoch 20/50\n",
            "161/161 [==============================] - ETA: 0s - loss: 0.2237 - accuracy: 0.9162\n",
            "Epoch 20: saving model to /content/drive/MyDrive/checkpoints/cp-epoch-20.ckpt\n",
            "161/161 [==============================] - 170s 1s/step - loss: 0.2237 - accuracy: 0.9162 - val_loss: 0.1745 - val_accuracy: 0.9418\n",
            "Epoch 21/50\n",
            "161/161 [==============================] - ETA: 0s - loss: 0.2194 - accuracy: 0.9172\n",
            "Epoch 21: saving model to /content/drive/MyDrive/checkpoints/cp-epoch-21.ckpt\n",
            "161/161 [==============================] - 170s 1s/step - loss: 0.2194 - accuracy: 0.9172 - val_loss: 0.1879 - val_accuracy: 0.9433\n",
            "Epoch 22/50\n",
            "161/161 [==============================] - ETA: 0s - loss: 0.2047 - accuracy: 0.9220\n",
            "Epoch 22: saving model to /content/drive/MyDrive/checkpoints/cp-epoch-22.ckpt\n",
            "161/161 [==============================] - 183s 1s/step - loss: 0.2047 - accuracy: 0.9220 - val_loss: 0.1895 - val_accuracy: 0.9457\n",
            "Epoch 23/50\n",
            "161/161 [==============================] - ETA: 0s - loss: 0.2061 - accuracy: 0.9234\n",
            "Epoch 23: saving model to /content/drive/MyDrive/checkpoints/cp-epoch-23.ckpt\n",
            "161/161 [==============================] - 170s 1s/step - loss: 0.2061 - accuracy: 0.9234 - val_loss: 0.2247 - val_accuracy: 0.9161\n",
            "Epoch 24/50\n",
            "161/161 [==============================] - ETA: 0s - loss: 0.2065 - accuracy: 0.9238\n",
            "Epoch 24: saving model to /content/drive/MyDrive/checkpoints/cp-epoch-24.ckpt\n",
            "161/161 [==============================] - 184s 1s/step - loss: 0.2065 - accuracy: 0.9238 - val_loss: 0.1763 - val_accuracy: 0.9433\n",
            "Epoch 25/50\n",
            "161/161 [==============================] - ETA: 0s - loss: 0.2054 - accuracy: 0.9209\n",
            "Epoch 25: saving model to /content/drive/MyDrive/checkpoints/cp-epoch-25.ckpt\n",
            "161/161 [==============================] - 170s 1s/step - loss: 0.2054 - accuracy: 0.9209 - val_loss: 0.1988 - val_accuracy: 0.9278\n",
            "Epoch 26/50\n",
            "161/161 [==============================] - ETA: 0s - loss: 0.1964 - accuracy: 0.9288\n",
            "Epoch 26: saving model to /content/drive/MyDrive/checkpoints/cp-epoch-26.ckpt\n",
            "161/161 [==============================] - 183s 1s/step - loss: 0.1964 - accuracy: 0.9288 - val_loss: 0.1755 - val_accuracy: 0.9348\n",
            "Epoch 27/50\n",
            "161/161 [==============================] - ETA: 0s - loss: 0.1977 - accuracy: 0.9273\n",
            "Epoch 27: saving model to /content/drive/MyDrive/checkpoints/cp-epoch-27.ckpt\n",
            "161/161 [==============================] - 169s 1s/step - loss: 0.1977 - accuracy: 0.9273 - val_loss: 0.2349 - val_accuracy: 0.9130\n",
            "Epoch 28/50\n",
            "161/161 [==============================] - ETA: 0s - loss: 0.1987 - accuracy: 0.9255\n",
            "Epoch 28: saving model to /content/drive/MyDrive/checkpoints/cp-epoch-28.ckpt\n",
            "161/161 [==============================] - 167s 1s/step - loss: 0.1987 - accuracy: 0.9255 - val_loss: 0.1771 - val_accuracy: 0.9410\n",
            "Epoch 29/50\n",
            "161/161 [==============================] - ETA: 0s - loss: 0.1995 - accuracy: 0.9285\n",
            "Epoch 29: saving model to /content/drive/MyDrive/checkpoints/cp-epoch-29.ckpt\n",
            "161/161 [==============================] - 182s 1s/step - loss: 0.1995 - accuracy: 0.9285 - val_loss: 0.1584 - val_accuracy: 0.9480\n",
            "Epoch 30/50\n",
            "161/161 [==============================] - ETA: 0s - loss: 0.1868 - accuracy: 0.9308\n",
            "Epoch 30: saving model to /content/drive/MyDrive/checkpoints/cp-epoch-30.ckpt\n",
            "161/161 [==============================] - 174s 1s/step - loss: 0.1868 - accuracy: 0.9308 - val_loss: 0.2182 - val_accuracy: 0.9340\n",
            "Epoch 31/50\n",
            "161/161 [==============================] - ETA: 0s - loss: 0.1889 - accuracy: 0.9322\n",
            "Epoch 31: saving model to /content/drive/MyDrive/checkpoints/cp-epoch-31.ckpt\n",
            "161/161 [==============================] - 185s 1s/step - loss: 0.1889 - accuracy: 0.9322 - val_loss: 0.1965 - val_accuracy: 0.9332\n",
            "Epoch 32/50\n",
            "161/161 [==============================] - ETA: 0s - loss: 0.1894 - accuracy: 0.9275\n",
            "Epoch 32: saving model to /content/drive/MyDrive/checkpoints/cp-epoch-32.ckpt\n",
            "161/161 [==============================] - 174s 1s/step - loss: 0.1894 - accuracy: 0.9275 - val_loss: 0.2384 - val_accuracy: 0.9068\n",
            "Epoch 33/50\n",
            "161/161 [==============================] - ETA: 0s - loss: 0.1861 - accuracy: 0.9325\n",
            "Epoch 33: saving model to /content/drive/MyDrive/checkpoints/cp-epoch-33.ckpt\n",
            "161/161 [==============================] - 173s 1s/step - loss: 0.1861 - accuracy: 0.9325 - val_loss: 0.1693 - val_accuracy: 0.9480\n",
            "Epoch 34/50\n",
            "161/161 [==============================] - ETA: 0s - loss: 0.1836 - accuracy: 0.9322\n",
            "Epoch 34: saving model to /content/drive/MyDrive/checkpoints/cp-epoch-34.ckpt\n",
            "161/161 [==============================] - 184s 1s/step - loss: 0.1836 - accuracy: 0.9322 - val_loss: 0.2051 - val_accuracy: 0.9371\n",
            "Epoch 35/50\n",
            "161/161 [==============================] - ETA: 0s - loss: 0.1827 - accuracy: 0.9345\n",
            "Epoch 35: saving model to /content/drive/MyDrive/checkpoints/cp-epoch-35.ckpt\n",
            "161/161 [==============================] - 184s 1s/step - loss: 0.1827 - accuracy: 0.9345 - val_loss: 0.1839 - val_accuracy: 0.9472\n",
            "Epoch 36/50\n",
            "161/161 [==============================] - ETA: 0s - loss: 0.1780 - accuracy: 0.9308\n",
            "Epoch 36: saving model to /content/drive/MyDrive/checkpoints/cp-epoch-36.ckpt\n",
            "161/161 [==============================] - 182s 1s/step - loss: 0.1780 - accuracy: 0.9308 - val_loss: 0.1546 - val_accuracy: 0.9449\n",
            "Epoch 37/50\n",
            "161/161 [==============================] - ETA: 0s - loss: 0.1810 - accuracy: 0.9349\n",
            "Epoch 37: saving model to /content/drive/MyDrive/checkpoints/cp-epoch-37.ckpt\n",
            "161/161 [==============================] - 169s 1s/step - loss: 0.1810 - accuracy: 0.9349 - val_loss: 0.1704 - val_accuracy: 0.9363\n",
            "Epoch 38/50\n",
            "161/161 [==============================] - ETA: 0s - loss: 0.1709 - accuracy: 0.9382\n",
            "Epoch 38: saving model to /content/drive/MyDrive/checkpoints/cp-epoch-38.ckpt\n",
            "161/161 [==============================] - 169s 1s/step - loss: 0.1709 - accuracy: 0.9382 - val_loss: 0.1843 - val_accuracy: 0.9309\n",
            "Epoch 39/50\n",
            "161/161 [==============================] - ETA: 0s - loss: 0.1719 - accuracy: 0.9374\n",
            "Epoch 39: saving model to /content/drive/MyDrive/checkpoints/cp-epoch-39.ckpt\n",
            "161/161 [==============================] - 170s 1s/step - loss: 0.1719 - accuracy: 0.9374 - val_loss: 0.1598 - val_accuracy: 0.9495\n",
            "Epoch 40/50\n",
            "161/161 [==============================] - ETA: 0s - loss: 0.1728 - accuracy: 0.9343\n",
            "Epoch 40: saving model to /content/drive/MyDrive/checkpoints/cp-epoch-40.ckpt\n",
            "161/161 [==============================] - 169s 1s/step - loss: 0.1728 - accuracy: 0.9343 - val_loss: 0.1699 - val_accuracy: 0.9503\n",
            "Epoch 41/50\n",
            "161/161 [==============================] - ETA: 0s - loss: 0.1739 - accuracy: 0.9413\n",
            "Epoch 41: saving model to /content/drive/MyDrive/checkpoints/cp-epoch-41.ckpt\n",
            "161/161 [==============================] - 171s 1s/step - loss: 0.1739 - accuracy: 0.9413 - val_loss: 0.1488 - val_accuracy: 0.9480\n",
            "Epoch 42/50\n",
            "161/161 [==============================] - ETA: 0s - loss: 0.1713 - accuracy: 0.9378\n",
            "Epoch 42: saving model to /content/drive/MyDrive/checkpoints/cp-epoch-42.ckpt\n",
            "161/161 [==============================] - 169s 1s/step - loss: 0.1713 - accuracy: 0.9378 - val_loss: 0.1579 - val_accuracy: 0.9394\n",
            "Epoch 43/50\n",
            "161/161 [==============================] - ETA: 0s - loss: 0.1717 - accuracy: 0.9374\n",
            "Epoch 43: saving model to /content/drive/MyDrive/checkpoints/cp-epoch-43.ckpt\n",
            "161/161 [==============================] - 170s 1s/step - loss: 0.1717 - accuracy: 0.9374 - val_loss: 0.1500 - val_accuracy: 0.9457\n",
            "Epoch 44/50\n",
            "161/161 [==============================] - ETA: 0s - loss: 0.1695 - accuracy: 0.9376\n",
            "Epoch 44: saving model to /content/drive/MyDrive/checkpoints/cp-epoch-44.ckpt\n",
            "161/161 [==============================] - 170s 1s/step - loss: 0.1695 - accuracy: 0.9376 - val_loss: 0.1516 - val_accuracy: 0.9464\n",
            "Epoch 45/50\n",
            "161/161 [==============================] - ETA: 0s - loss: 0.1645 - accuracy: 0.9368\n",
            "Epoch 45: saving model to /content/drive/MyDrive/checkpoints/cp-epoch-45.ckpt\n",
            "161/161 [==============================] - 168s 1s/step - loss: 0.1645 - accuracy: 0.9368 - val_loss: 0.1525 - val_accuracy: 0.9441\n",
            "Epoch 46/50\n",
            "161/161 [==============================] - ETA: 0s - loss: 0.1665 - accuracy: 0.9382\n",
            "Epoch 46: saving model to /content/drive/MyDrive/checkpoints/cp-epoch-46.ckpt\n",
            "161/161 [==============================] - 168s 1s/step - loss: 0.1665 - accuracy: 0.9382 - val_loss: 0.1571 - val_accuracy: 0.9402\n",
            "Epoch 47/50\n",
            "161/161 [==============================] - ETA: 0s - loss: 0.1691 - accuracy: 0.9411\n",
            "Epoch 47: saving model to /content/drive/MyDrive/checkpoints/cp-epoch-47.ckpt\n",
            "161/161 [==============================] - 169s 1s/step - loss: 0.1691 - accuracy: 0.9411 - val_loss: 0.1518 - val_accuracy: 0.9418\n",
            "Epoch 48/50\n",
            "161/161 [==============================] - ETA: 0s - loss: 0.1625 - accuracy: 0.9407\n",
            "Epoch 48: saving model to /content/drive/MyDrive/checkpoints/cp-epoch-48.ckpt\n",
            "161/161 [==============================] - 168s 1s/step - loss: 0.1625 - accuracy: 0.9407 - val_loss: 0.1501 - val_accuracy: 0.9457\n",
            "Epoch 49/50\n",
            "161/161 [==============================] - ETA: 0s - loss: 0.1639 - accuracy: 0.9366\n",
            "Epoch 49: saving model to /content/drive/MyDrive/checkpoints/cp-epoch-49.ckpt\n",
            "161/161 [==============================] - 182s 1s/step - loss: 0.1639 - accuracy: 0.9366 - val_loss: 0.1530 - val_accuracy: 0.9441\n",
            "Epoch 50/50\n",
            "161/161 [==============================] - ETA: 0s - loss: 0.1631 - accuracy: 0.9409\n",
            "Epoch 50: saving model to /content/drive/MyDrive/checkpoints/cp-epoch-50.ckpt\n",
            "161/161 [==============================] - 168s 1s/step - loss: 0.1631 - accuracy: 0.9409 - val_loss: 0.1527 - val_accuracy: 0.9488\n"
          ]
        }
      ],
      "source": [
        "history = model.fit(train_generator, epochs=50, validation_data=test_generator,callbacks=[cp_callback])"
      ]
    },
    {
      "cell_type": "code",
      "source": [
        "'''\n",
        "# to resume from epoch 5 checkpoints\n",
        "model.load_weights(\"/content/drive/MyDrive/checkpoints/cp-epoch-5.ckpt\")\n",
        "\n",
        "history = model.fit(train_generator, epochs=50, validation_data=test_generator,\n",
        "          callbacks=[cp_callback])\n",
        "'''"
      ],
      "metadata": {
        "id": "rJY6uAffATPH"
      },
      "execution_count": null,
      "outputs": []
    },
    {
      "cell_type": "code",
      "source": [
        "import matplotlib.pyplot as plt\n",
        "\n",
        "# Plot accuracy and loss curves\n",
        "plt.plot(history.history['accuracy'])\n",
        "plt.plot(history.history['val_accuracy'])\n",
        "plt.title('Model Accuracy')\n",
        "plt.xlabel('Epoch')\n",
        "plt.ylabel('Accuracy')\n",
        "plt.legend(['train', 'test'], loc='upper left')\n",
        "plt.show()"
      ],
      "metadata": {
        "colab": {
          "base_uri": "https://localhost:8080/",
          "height": 472
        },
        "id": "ZC1ST_POxEnG",
        "outputId": "75bee5a2-c70e-4fec-dbc6-a6155aabec93"
      },
      "execution_count": null,
      "outputs": [
        {
          "output_type": "display_data",
          "data": {
            "text/plain": [
              "<Figure size 640x480 with 1 Axes>"
            ],
            "image/png": "[encoded data removed]"
          },
          "metadata": {}
        }
      ]
    },
    {
      "cell_type": "code",
      "source": [
        "score = model.evaluate(test_generator)\n",
        "print('Test Loss:', score[0])\n",
        "print('Test Accuracy:', score[1])"
      ],
      "metadata": {
        "colab": {
          "base_uri": "https://localhost:8080/"
        },
        "id": "lEyIiPZ_xLLD",
        "outputId": "ea4ac271-e165-4144-b985-81652abaea3e"
      },
      "execution_count": null,
      "outputs": [
        {
          "output_type": "stream",
          "name": "stdout",
          "text": [
            "41/41 [==============================] - 28s 672ms/step - loss: 0.1527 - accuracy: 0.9488\n",
            "Test Loss: 0.1527436077594757\n",
            "Test Accuracy: 0.9487577676773071\n"
          ]
        }
      ]
    },
    {
      "cell_type": "code",
      "source": [
        "model.save('/content/drive/MyDrive/models/CNN_model.h5')"
      ],
      "metadata": {
        "id": "CXDlSTihzz9m"
      },
      "execution_count": null,
      "outputs": []
    }
  ],
  "metadata": {
    "colab": {
      "provenance": []
    },
    "kernelspec": {
      "display_name": "Python 3",
      "name": "python3"
    },
    "language_info": {
      "name": "python"
    },
    "accelerator": "GPU",
    "gpuClass": "standard"
  },
  "nbformat": 4,
  "nbformat_minor": 0
}